{
 "cells": [
  {
   "cell_type": "code",
   "execution_count": 2,
   "id": "2666e6d1",
   "metadata": {},
   "outputs": [],
   "source": [
    "import pandas as pd\n",
    "import matplotlib\n",
    "import matplotlib.pyplot as plt\n",
    "import matplotlib.font_manager as fm\n",
    "import seaborn as sns"
   ]
  },
  {
   "cell_type": "code",
   "execution_count": 3,
   "id": "7f3df2aa",
   "metadata": {},
   "outputs": [
    {
     "name": "stdout",
     "output_type": "stream",
     "text": [
      "Malgun Gothic\n"
     ]
    }
   ],
   "source": [
    "font_path = 'C:\\\\windows\\\\Fonts\\\\malgun.ttf'\n",
    "font_prop = fm.FontProperties(fname=font_path).get_name()\n",
    "print(font_prop)\n",
    "matplotlib.rc('font', family=font_prop)"
   ]
  },
  {
   "cell_type": "code",
   "execution_count": null,
   "id": "5e5a0f53",
   "metadata": {},
   "outputs": [],
   "source": [
    "# 인구현황.csv 로드하여 DataFrame 객체생성 , 변수명은 df_all \n",
    "df_all = pd.read_csv('C:/mypython/Practice_code/data/인구현황.csv')\n",
    "df_all.head() # 데이터프레임의 앞부분 5개 행을 출력"
   ]
  },
  {
   "cell_type": "code",
   "execution_count": null,
   "id": "29a85f4c",
   "metadata": {},
   "outputs": [],
   "source": [
    "# 전국 데이터는 제거하고 새로운 DataFrame 생성, 변수명은 df\n",
    "df = df_all.loc[df_all['행정기관'] != '전국'].copy()\n",
    "df.head() # 데이터프레임의 앞부분 5개 행을 출력"
   ]
  },
  {
   "cell_type": "code",
   "execution_count": null,
   "id": "5bcb454f",
   "metadata": {},
   "outputs": [],
   "source": [
    "print(\"\\n결측치 확인:\")\n",
    "print(df.isnull().sum())"
   ]
  },
  {
   "cell_type": "markdown",
   "id": "ee6b7a96",
   "metadata": {},
   "source": [
    "##### 1. 지역별 총인구수 Top5\n"
   ]
  },
  {
   "cell_type": "code",
   "execution_count": null,
   "id": "a0d2bde5",
   "metadata": {},
   "outputs": [],
   "source": [
    "# 지역별 총인구수 Top5\n",
    "df_top5 = df[['행정기관','총인구수']].sort_values(by='총인구수',ascending=False).head(5)\n",
    "print(\"1. 지역별 총인구수 Top5\")\n",
    "df_top5"
   ]
  },
  {
   "cell_type": "code",
   "execution_count": null,
   "id": "e46c12f4",
   "metadata": {},
   "outputs": [],
   "source": [
    "# 지역별 총인구수 Top5\n",
    "print(\"1. 지역별 총인구수 Top5\")\n",
    "\n",
    "df[['행정기관', '총인구수']].sort_values(by='총인구수', ascending=False).head(5)\n",
    "#df.loc[:, ['행정기관', '총인구수']].sort_values(by='총인구수', ascending=False).head(5)"
   ]
  },
  {
   "cell_type": "markdown",
   "id": "f678ddeb",
   "metadata": {},
   "source": [
    "##### 1-1. 지역별 총인구수 Plot"
   ]
  },
  {
   "cell_type": "code",
   "execution_count": 9,
   "id": "b801a5c1",
   "metadata": {},
   "outputs": [],
   "source": [
    "# 코드 GPT에게 리팩토링 요청\n",
    "def show_total_population():\n",
    "    # '전국' 제외한 지역 필터링\n",
    "    people_df = df[df['행정기관'] != '전국']\n",
    "\n",
    "    # Figure, Axes 생성\n",
    "    figure, ax = plt.subplots(figsize=(18, 12))\n",
    "\n",
    "    # 총인구수 막대 그래프\n",
    "    sns.barplot(\n",
    "        data=people_df.sort_values(by='총인구수', ascending=False),\n",
    "        x='행정기관',\n",
    "        y='총인구수',\n",
    "        ax=ax,\n",
    "        palette='Set3'\n",
    "    )\n",
    "\n",
    "    ax.set_title('지역별 총인구수', fontsize=16)\n",
    "    ax.set_xlabel('행정기관', fontsize=12)\n",
    "    ax.set_ylabel('총인구수', fontsize=12)\n",
    "    plt.xticks(rotation=45)\n",
    "    plt.tight_layout()\n",
    "    plt.show()"
   ]
  },
  {
   "cell_type": "code",
   "execution_count": null,
   "id": "e90678d6",
   "metadata": {},
   "outputs": [],
   "source": [
    "show_total_population()"
   ]
  },
  {
   "cell_type": "code",
   "execution_count": null,
   "id": "fecbb7ce",
   "metadata": {},
   "outputs": [],
   "source": [
    "plt.figure(figsize=(10,5))\n",
    "sns.barplot(x='행정기관', y='총인구수', data=df.sort_values(by='총인구수', ascending=False), hue='행정기관')\n",
    "\n",
    "plt.xticks(rotation=45)\n",
    "plt.title('지역별 총인구수')\n",
    "plt.tight_layout()\n",
    "plt.show()"
   ]
  },
  {
   "cell_type": "markdown",
   "id": "d082c2f7",
   "metadata": {},
   "source": [
    "##### 2. 세대당 인구수 높은 지역 Top5"
   ]
  },
  {
   "cell_type": "code",
   "execution_count": null,
   "id": "6b30374f",
   "metadata": {},
   "outputs": [],
   "source": [
    "df_top5_pop = df[['행정기관','세대당 인구']].sort_values(by='세대당 인구',ascending=False).head(5)\n",
    "\n",
    "print(\"2. 세대당 인구수 높은 지역 Top5\")\n",
    "\n",
    "df_top5_pop"
   ]
  },
  {
   "cell_type": "code",
   "execution_count": null,
   "id": "45554720",
   "metadata": {},
   "outputs": [],
   "source": [
    "print(\"2. 세대당 인구수 높은 지역 Top5\")\n",
    "\n",
    "df[['행정기관', '세대당 인구']].sort_values(by='세대당 인구', ascending=False).head(5).reset_index(drop=True)"
   ]
  },
  {
   "cell_type": "markdown",
   "id": "6e012319",
   "metadata": {},
   "source": [
    "##### 2-1. 지역별 세대당 인구 Plot"
   ]
  },
  {
   "cell_type": "code",
   "execution_count": 20,
   "id": "ba7d141b",
   "metadata": {},
   "outputs": [],
   "source": [
    "# 코드 GPT에게 리팩토링 요청\n",
    "def show_avg_people_per_household():\n",
    "    # '전국' 제외\n",
    "    people_df = df[df['행정기관'] != '전국']\n",
    "\n",
    "    # 그래프 생성\n",
    "    figure, ax = plt.subplots(figsize=(16, 6))\n",
    "\n",
    "    # 세대당 인구수 시각화\n",
    "    sns.barplot(\n",
    "        data=people_df.sort_values(by='세대당 인구', ascending=False),\n",
    "        x='행정기관',\n",
    "        y='세대당 인구',\n",
    "        ax=ax,\n",
    "        palette='Set3'\n",
    "    )\n",
    "\n",
    "    ax.set_title('지역별 세대당 인구수', fontsize=16)\n",
    "    ax.set_xlabel('행정기관', fontsize=12)\n",
    "    ax.set_ylabel('세대당 인구수', fontsize=12)\n",
    "    plt.xticks(rotation=45)\n",
    "    plt.tight_layout()\n",
    "    plt.show()\n"
   ]
  },
  {
   "cell_type": "code",
   "execution_count": null,
   "id": "07c35f9e",
   "metadata": {},
   "outputs": [],
   "source": [
    "show_avg_people_per_household()"
   ]
  },
  {
   "cell_type": "code",
   "execution_count": null,
   "id": "d37560c2",
   "metadata": {},
   "outputs": [],
   "source": [
    "figure, axes1 = plt.subplots(1,1)\n",
    "figure.set_size_inches(16,10)\n",
    "\n",
    "sns.barplot(x='행정기관', y='세대당 인구', data=df.sort_values(by='세대당 인구', ascending=False), hue='행정기관', ax=axes1)\n",
    "\n",
    "plt.xticks(rotation=45)\n",
    "plt.title('지역별 세대당 인구')\n",
    "plt.tight_layout()\n",
    "plt.show()"
   ]
  },
  {
   "cell_type": "markdown",
   "id": "7cb9ee94",
   "metadata": {},
   "source": [
    "##### 3. 남녀 비율 분석"
   ]
  },
  {
   "cell_type": "code",
   "execution_count": null,
   "id": "327637bd",
   "metadata": {},
   "outputs": [],
   "source": [
    "WM_df = df[['행정기관','남여 비율']].sort_values(by='남여 비율',ascending=False).reset_index(drop=True)\n",
    "print(\"3. 남녀 비율 분석\")\n",
    "WM_df"
   ]
  },
  {
   "cell_type": "markdown",
   "id": "f1465ab3",
   "metadata": {},
   "source": [
    "##### 3-1. 지역별 남녀 비율 Plot\n",
    "* 기준이 되는 빨간선은 pyplot의 axhline() 함수를 사용해 보세요."
   ]
  },
  {
   "cell_type": "code",
   "execution_count": 24,
   "id": "db44d757",
   "metadata": {},
   "outputs": [],
   "source": [
    "# 기존 함수 재활용\n",
    "def show_gender_ratio_by_region():\n",
    "    # '전국' 제외\n",
    "    people_df = df[df['행정기관'] != '전국']\n",
    "\n",
    "    # 그래프 생성\n",
    "    figure, ax = plt.subplots(figsize=(16, 6))\n",
    "\n",
    "    # 세대당 인구수 시각화\n",
    "    sns.barplot(\n",
    "        data=people_df.sort_values(by='남여 비율', ascending=False),\n",
    "        x='행정기관',\n",
    "        y='남여 비율',\n",
    "        ax=ax,\n",
    "        palette='Set3'  # GPT 추천 팔레트 색색\n",
    "    )\n",
    "    \n",
    "    # 기준선 추가 (예: 평균값 기준선)\n",
    "    plt.axhline(y=WM_df['남여 비율'].mean(), color='red', linestyle='--', linewidth=2, label='남녀 1:1 비율')\n",
    "\n",
    "    ax.set_title('지역별 남녀 비율', fontsize=16)\n",
    "    ax.set_xlabel('행정기관', fontsize=12)\n",
    "    ax.set_ylabel('남녀 비율', fontsize=12)\n",
    "    plt.xticks(rotation=45)\n",
    "    plt.tight_layout()\n",
    "    plt.show()"
   ]
  },
  {
   "cell_type": "code",
   "execution_count": null,
   "id": "6dc9ffff",
   "metadata": {},
   "outputs": [],
   "source": [
    "show_gender_ratio_by_region()"
   ]
  },
  {
   "cell_type": "code",
   "execution_count": null,
   "id": "fec37333",
   "metadata": {},
   "outputs": [],
   "source": [
    "figure, axes1 = plt.subplots(1,1)\n",
    "figure.set_size_inches(16,10)\n",
    "sns.barplot(x='행정기관', y='남여 비율', data=df.sort_values(by='남여 비율', ascending=False), hue='행정기관', ax=axes1)\n",
    "\n",
    "plt.xticks(rotation=45)\n",
    "plt.axhline(1, color='red', linestyle='--', label='남녀 1:1 비율')\n",
    "plt.legend()\n",
    "plt.title('지역별 남녀 비율')\n",
    "plt.tight_layout()\n",
    "plt.show()"
   ]
  },
  {
   "cell_type": "markdown",
   "id": "4d7e1413",
   "metadata": {},
   "source": [
    "##### 4. 남자초과 / 여자초과 분석\n",
    "* 남초(남자초과) => 남자 인구가 여자 인구보다 많은 지역\t남여 비율 > 1 또는 남자 인구수 > 여자 인구수\n",
    "* 여초(여자초과) => 여자 인구가 남자 인구보다 많은 지역\t남여 비율 < 1 또는 여자 인구수 > 남자 인구수\n",
    "\n",
    "* 남초여초 컬럼을 추가합니다. "
   ]
  },
  {
   "cell_type": "code",
   "execution_count": null,
   "id": "b309c976",
   "metadata": {},
   "outputs": [],
   "source": [
    "# GPT 리팩토링 (Lambda 함수 사용 및 행정기관코드 순으로 정렬)\n",
    "print(\"4. 남초 vs 여초 지역 구분\")\n",
    "WM_decide = df[['행정기관코드', '행정기관', '남여 비율']].copy()\n",
    "\n",
    "WM_decide['남초여초'] = WM_decide['남여 비율'].apply(\n",
    "    lambda x: '남초' if x > 1 else ('여초' if x < 1 else '동일')\n",
    ")\n",
    "    \n",
    "WM_decide.sort_values(by='행정기관코드', ascending=True).reset_index(drop=True)\n",
    "WM_decide.drop(columns='행정기관코드')"
   ]
  },
  {
   "cell_type": "code",
   "execution_count": null,
   "id": "d071d8ab",
   "metadata": {},
   "outputs": [],
   "source": [
    "print(\"4. 남초 vs 여초 지역 구분\")\n",
    "\n",
    "# df['남초여초'] = df['남여 비율'].apply(lambda x: '남초' if x > 1 else ('여초' if x < 1 else '동일'))\n",
    "df.loc[df['남여 비율'] > 1, '남초여초'] = '남초'\n",
    "df.loc[df['남여 비율'] < 1, '남초여초'] = '여초'\n",
    "df.loc[df['남여 비율'] == 1.0, '남초여초'] = '동일'\n",
    "\n",
    "df[['행정기관', '남여 비율', '남초여초']]"
   ]
  },
  {
   "cell_type": "markdown",
   "id": "ad01cf97",
   "metadata": {},
   "source": [
    "##### 5. 세대당 인구 평균보다 높은 지역"
   ]
  },
  {
   "cell_type": "code",
   "execution_count": null,
   "id": "c3aeb389",
   "metadata": {},
   "outputs": [],
   "source": [
    "print(\"5. 세대당 인구 평균보다 높은 지역\")\n",
    "mean_df = round(df['세대당 인구'].mean(), 2)\n",
    "print('전국 평균 세대당 인구수:', mean_df)\n",
    "\n",
    "df[['행정기관','세대당 인구']].sort_values(by='세대당 인구',ascending=False).head(7).reset_index(drop=True)"
   ]
  },
  {
   "cell_type": "code",
   "execution_count": null,
   "id": "0d987acc",
   "metadata": {},
   "outputs": [],
   "source": [
    "print(\"5. 세대당 인구 평균보다 높은 지역\")\n",
    "\n",
    "mean_세대당인구 = df['세대당 인구'].mean()\n",
    "print(\"전국 평균 세대당 인구수:\", round(mean_세대당인구, 2))\n",
    "df.loc[df['세대당 인구'] > mean_세대당인구,['행정기관', '세대당 인구']].sort_values(by='세대당 인구',ascending=False).reset_index(drop=True)"
   ]
  },
  {
   "cell_type": "markdown",
   "id": "1f48dab8",
   "metadata": {},
   "source": [
    "##### 5-1. 남초 vs 여초 개수 Plot  /  지역별 세대수 Plot"
   ]
  },
  {
   "cell_type": "code",
   "execution_count": 31,
   "id": "9e228689",
   "metadata": {},
   "outputs": [],
   "source": [
    "# 코드 GPT에게 리팩토링 요청\n",
    "def show_Woman_Man():\n",
    "    # 그래프 생성\n",
    "    figure, ax = plt.subplots(figsize=(16, 6))\n",
    "\n",
    "    # 남초여초 시각화\n",
    "    sns.countplot(\n",
    "        data=WM_decide,\n",
    "        x='남초여초',\n",
    "        order=['여초', '동일', '남초'],\n",
    "        palette='Set3',\n",
    "        ax=ax\n",
    "    )\n",
    "\n",
    "    ax.set_title('남초 vs 여초 지역 개수', fontsize=16)\n",
    "    ax.set_xlabel('남초여초', fontsize=12)\n",
    "    ax.set_ylabel('count', fontsize=12)\n",
    "    plt.xticks(rotation=45)\n",
    "    plt.tight_layout()\n",
    "    plt.show()"
   ]
  },
  {
   "cell_type": "code",
   "execution_count": null,
   "id": "475a9dfe",
   "metadata": {},
   "outputs": [],
   "source": [
    "show_Woman_Man()"
   ]
  },
  {
   "cell_type": "code",
   "execution_count": null,
   "id": "c19e3f8a",
   "metadata": {},
   "outputs": [],
   "source": [
    "df['남초여초'].value_counts()"
   ]
  },
  {
   "cell_type": "code",
   "execution_count": null,
   "id": "7066f553",
   "metadata": {},
   "outputs": [],
   "source": [
    "figure, (axes1, axes2) = plt.subplots(nrows=2, ncols=1)\n",
    "figure.set_size_inches(18,12)\n",
    "\n",
    "plot1 = sns.countplot(x='남초여초', data=df, ax=axes1, hue='남초여초')\n",
    "plot1.set_title('남초 vs 여초 지역 개수')\n",
    "\n",
    "plot2 = sns.barplot(x='행정기관', y='세대수', data=df.sort_values(by='세대수',ascending=False), ax=axes2, hue='행정기관')\n",
    "plot2.set_title('지역별 세대수')\n",
    "\n",
    "plt.show()"
   ]
  },
  {
   "cell_type": "markdown",
   "id": "3d78aad7",
   "metadata": {},
   "source": [
    "#### 지역별 세대수 Plot \n",
    "* seaborn의 barplot"
   ]
  },
  {
   "cell_type": "code",
   "execution_count": null,
   "id": "a0141d61",
   "metadata": {},
   "outputs": [],
   "source": [
    "def show_loaction_people():\n",
    "    # '전국' 제외\n",
    "    people_df = df[df['행정기관'] != '전국']\n",
    "\n",
    "    # 그래프 생성\n",
    "    figure, ax = plt.subplots(figsize=(16, 6))\n",
    "\n",
    "    # 세대당 인구수 시각화\n",
    "    sns.barplot(\n",
    "        data=people_df.sort_values(by='세대수', ascending=False),\n",
    "        x='행정기관',\n",
    "        y='세대수',\n",
    "        ax=ax,\n",
    "        palette='Set3'\n",
    "    )\n",
    "\n",
    "    ax.set_title('지역별 세대수', fontsize=16)\n",
    "    ax.set_xlabel('행정기관', fontsize=12)\n",
    "    ax.set_ylabel('세대수', fontsize=12)\n",
    "    plt.xticks(rotation=45)\n",
    "    plt.tight_layout()\n",
    "    plt.show()"
   ]
  },
  {
   "cell_type": "code",
   "execution_count": null,
   "id": "bfd01e74",
   "metadata": {},
   "outputs": [],
   "source": [
    "show_loaction_people()"
   ]
  },
  {
   "cell_type": "markdown",
   "id": "a57ee850",
   "metadata": {},
   "source": [
    "##### 6. 남자 인구 vs 여자 인구 비교 Plot"
   ]
  },
  {
   "cell_type": "code",
   "execution_count": null,
   "id": "91462a1a",
   "metadata": {},
   "outputs": [],
   "source": [
    "df.loc[:,['행정기관', '남자 인구수', '여자 인구수']]"
   ]
  },
  {
   "cell_type": "code",
   "execution_count": null,
   "id": "b47ed475",
   "metadata": {},
   "outputs": [],
   "source": [
    "print(\"6. 남자 인구 vs 여자 인구 비교\")\n",
    "\n",
    "plt.figure(figsize=(15,7))\n",
    "df.loc[:,['행정기관', '남자 인구수', '여자 인구수']].plot(kind='bar', x='행정기관', figsize=(15,7))\n",
    "\n",
    "plt.title('남자 vs 여자 인구 비교')\n",
    "plt.xticks(rotation=45)\n",
    "plt.tight_layout()\n",
    "plt.show()"
   ]
  },
  {
   "cell_type": "markdown",
   "id": "b4ea0081",
   "metadata": {},
   "source": [
    "### 엑셀 리포트 자동 생성 코드"
   ]
  },
  {
   "cell_type": "code",
   "execution_count": null,
   "id": "3b5ce0c6",
   "metadata": {},
   "outputs": [],
   "source": [
    "# 엑셀 저장용\n",
    "from pandas import ExcelWriter\n",
    "import datetime\n",
    "\n",
    "# 분석 데이터 준비\n",
    "top5_population = df[['행정기관', '총인구수']].sort_values(by='총인구수', ascending=False).head(5)\n",
    "top5_family = df[['행정기관', '세대당 인구']].sort_values(by='세대당 인구', ascending=False).head(5)\n",
    "male_vs_female = df[['행정기관', '남자 인구수', '여자 인구수']]\n",
    "\n",
    "# 남초/여초 컬럼 추가\n",
    "df['남초여초'] = df['남여 비율'].apply(lambda x: '남초' if x > 1 else ('여초' if x < 1 else '동일'))\n",
    "\n",
    "today = datetime.datetime.now().strftime('%Y%m%d')\n",
    "filename = f'data/인구분석리포트_{today}.xlsx'\n",
    "\n",
    "# Excel 파일로 저장\n",
    "with ExcelWriter(filename, engine='openpyxl') as writer:\n",
    "    df.to_excel(writer, sheet_name='원본데이터', index=False)\n",
    "    top5_population.to_excel(writer, sheet_name='총인구 Top5', index=False)\n",
    "    top5_family.to_excel(writer, sheet_name='세대당 인구 Top5', index=False)\n",
    "    male_vs_female.to_excel(writer, sheet_name='남자vs여자', index=False)\n",
    "    \n",
    "print(\"엑셀 리포트 저장 완료 → '인구분석리포트.xlsx'\")\n"
   ]
  },
  {
   "cell_type": "code",
   "execution_count": null,
   "id": "e610896e",
   "metadata": {},
   "outputs": [],
   "source": [
    "# 남녀 인구 차이 컬럼 추가\n",
    "df['남여차이'] = abs(df['남자 인구수'] - df['여자 인구수'])\n",
    "\n",
    "# 남녀 비율 TOP5 (남초)\n",
    "male_dom = df.sort_values(by='남여 비율', ascending=False).head(5)\n",
    "\n",
    "# 남녀 비율 TOP5 (여초)\n",
    "female_dom = df.sort_values(by='남여 비율', ascending=True).head(5)\n",
    "\n",
    "# 세대당 인구 TOP5 (가구당 인구 많은 지역)\n",
    "big_family = df.sort_values(by='세대당 인구', ascending=False).head(5)\n",
    "\n",
    "# 세대수 대비 총인구 비율\n",
    "df['인구/세대'] = df['총인구수'] / df['세대수']\n",
    "\n",
    "# 수도권 vs 비수도권 비교\n",
    "capital = df[df['행정기관'].isin(['서울특별시', '경기도', '인천광역시'])]\n",
    "non_capital = df[~df['행정기관'].isin(['서울특별시', '경기도', '인천광역시'])]\n"
   ]
  },
  {
   "cell_type": "code",
   "execution_count": null,
   "id": "c5fd1863",
   "metadata": {},
   "outputs": [],
   "source": [
    "\n",
    "print(\"남초 TOP5\")\n",
    "male_dom[['행정기관','남여 비율']].reset_index(drop=True)\n"
   ]
  },
  {
   "cell_type": "code",
   "execution_count": null,
   "id": "172272b5",
   "metadata": {},
   "outputs": [],
   "source": [
    "\n",
    "print(\"여초 TOP5\")\n",
    "female_dom[['행정기관','남여 비율']].reset_index(drop=True)\n"
   ]
  },
  {
   "cell_type": "code",
   "execution_count": null,
   "id": "3b3c1171",
   "metadata": {},
   "outputs": [],
   "source": [
    "\n",
    "print(\"세대당 인구 많은 TOP5\")\n",
    "big_family[['행정기관','세대당 인구']].reset_index(drop=True)\n"
   ]
  },
  {
   "cell_type": "code",
   "execution_count": null,
   "id": "0f89f3aa",
   "metadata": {},
   "outputs": [],
   "source": [
    "\n",
    "print(\"수도권 평균 세대당 인구:\", capital['세대당 인구'].mean())\n",
    "print(\"비수도권 평균 세대당 인구:\", non_capital['세대당 인구'].mean())"
   ]
  },
  {
   "cell_type": "code",
   "execution_count": null,
   "id": "89cc5191",
   "metadata": {},
   "outputs": [],
   "source": [
    "# 전국 총인구수\n",
    "total_population = df_all[df_all['행정기관'] == '전국']['총인구수'].values[0]\n",
    "\n",
    "# 인구비율(%) 컬럼 추가하기\n",
    "df['인구비율(%)'] = df['총인구수'] / total_population * 100\n",
    "\n",
    "df"
   ]
  },
  {
   "cell_type": "code",
   "execution_count": null,
   "id": "906e1cb7",
   "metadata": {},
   "outputs": [],
   "source": [
    "# 전국 제외\n",
    "df_plot = df.sort_values(by='인구비율(%)', ascending=False)\n",
    "df_plot"
   ]
  },
  {
   "cell_type": "code",
   "execution_count": null,
   "id": "95537e6e",
   "metadata": {},
   "outputs": [],
   "source": [
    "\n",
    "# 시각화\n",
    "plt.figure(figsize=(12, 8))\n",
    "bars = plt.barh(df_plot['행정기관'], df_plot['인구비율(%)'], color='cornflowerblue')\n",
    "\n",
    "plt.xlabel('인구비율 (%)')\n",
    "plt.title('행정기관별 인구 비율')\n",
    "\n",
    "# 값 표시\n",
    "for bar in bars:\n",
    "    plt.text(bar.get_width() + 0.1, bar.get_y() + bar.get_height()/2,\n",
    "             f\"{bar.get_width():.2f}%\", va='center')\n",
    "\n",
    "plt.gca().invert_yaxis()\n",
    "plt.show()"
   ]
  }
 ],
 "metadata": {
  "kernelspec": {
   "display_name": "base",
   "language": "python",
   "name": "python3"
  },
  "language_info": {
   "codemirror_mode": {
    "name": "ipython",
    "version": 3
   },
   "file_extension": ".py",
   "mimetype": "text/x-python",
   "name": "python",
   "nbconvert_exporter": "python",
   "pygments_lexer": "ipython3",
   "version": "3.12.7"
  }
 },
 "nbformat": 4,
 "nbformat_minor": 5
}
