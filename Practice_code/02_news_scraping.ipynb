{
 "cells": [
  {
   "cell_type": "code",
   "execution_count": 1,
   "id": "c30c0438",
   "metadata": {},
   "outputs": [],
   "source": [
    "import requests\n",
    "from bs4 import BeautifulSoup\n",
    "\n",
    "# 한글 → 영어 섹션 코드 딕셔너리\n",
    "# 뉴스 URL에는 영어 코드가 들어가고, 출력에는 한글을 그대로 쓰기 위해 사용\n",
    "section_dict = {\n",
    "    100 : '최신뉴스',\n",
    "    200 : '정치',\n",
    "    300 : '경제',\n",
    "    400 : '사회',\n",
    "    500 : '세계',\n",
    "    600 : 'IT/과학'\n",
    "}\n",
    "\n",
    "# 뉴스 크롤링 함수 정의 [해당 함수의 정의에서 한글로 입력을 받으면 economy뉴스 와 같이 출력되어 해당 값을 GPT에게 수정 요청]\n",
    "def print_news(section_name):\n",
    "    # ★ GPT 수정된 부분 1: 한글 → 영어 코드 변환\n",
    "    section_code = section_dict[section_name]  # 예: '경제' → 'economy'\n",
    "    # ★ GPT 수정된 부분 2: URL에 영어 코드 삽입\n",
    "    url = f\"https://news.nate.com/recent?mid=n{section_code}\"  # 예: https://news.daum.net/economy\n",
    "    # ★ GPT 수정된 부분 3: 출력에는 한글 그대로 사용\n",
    "    print(f\"=====> {url} {section_name} 뉴스 <=====\")  # 예: \"경제 뉴스\"\n",
    "    \n",
    "    # 요청 헤더 설정 (브라우저처럼 요청 보내기 위해 User-Agent 포함)\n",
    "    req_header = {\n",
    "        'user-agent': 'Mozilla/5.0 (Windows NT 10.0; Win64; x64) AppleWebKit/537.36 (KHTML, like Gecko) Chrome/135.0.0.0 Safari/537.36'\n",
    "    }\n",
    "\n",
    "    # 요청 보내기\n",
    "    res = requests.get(url, headers=req_header)\n",
    "    res.encoding = 'utf-8'  # 한글 깨짐 방지: 인코딩 설정은 soup 파싱 전에!"
   ]
  }
 ],
 "metadata": {
  "kernelspec": {
   "display_name": "base",
   "language": "python",
   "name": "python3"
  },
  "language_info": {
   "codemirror_mode": {
    "name": "ipython",
    "version": 3
   },
   "file_extension": ".py",
   "mimetype": "text/x-python",
   "name": "python",
   "nbconvert_exporter": "python",
   "pygments_lexer": "ipython3",
   "version": "3.12.7"
  }
 },
 "nbformat": 4,
 "nbformat_minor": 5
}
